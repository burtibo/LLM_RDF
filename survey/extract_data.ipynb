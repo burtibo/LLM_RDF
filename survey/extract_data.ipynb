{
 "cells": [
  {
   "cell_type": "code",
   "execution_count": 1,
   "metadata": {},
   "outputs": [
    {
     "name": "stdout",
     "output_type": "stream",
     "text": [
      "Current Directory: C:\\Users\\31615\\Desktop\\thesis\\triples\n"
     ]
    }
   ],
   "source": [
    "import os\n",
    "import pandas as pd\n",
    "import random\n",
    "# Set the directory\n",
    "os.chdir(r\"C:\\Users\\31615\\Desktop\\thesis\\triples\")\n",
    "\n",
    "# Confirm the current directory\n",
    "print(\"Current Directory:\", os.getcwd())"
   ]
  },
  {
   "cell_type": "code",
   "execution_count": 2,
   "metadata": {},
   "outputs": [],
   "source": [
    "# Set the working directory\n",
    "os.chdir(r\"C:\\Users\\31615\\Desktop\\thesis\\triples\")\n",
    "\n",
    "# Load entity and relation mappings as dictionaries\n",
    "entity2text = pd.read_csv(\"data/FB15k237/entity2text.txt\", sep=\"\\t\", header=None, names=[\"entity\", \"text\"]).set_index(\"entity\")[\"text\"].to_dict()\n",
    "relation2text = pd.read_csv(\"data/FB15k237/relation2text.txt\", sep=\"\\t\", header=None, names=[\"relation\", \"text\"]).set_index(\"relation\")[\"text\"].to_dict()\n",
    "with open('data/FB15k237/relation2text.txt', 'r') as file:\n",
    "    relation2text_simplified = file.read().splitlines()\n",
    "\n",
    "\n",
    "# Load the test.tsv file\n",
    "data = pd.read_csv(\"data/FB15k237/test.tsv\", sep=\"\\t\", header=None, names=[\"head\", \"relation\", \"tail\"])"
   ]
  },
  {
   "cell_type": "code",
   "execution_count": 10,
   "metadata": {},
   "outputs": [
    {
     "name": "stdout",
     "output_type": "stream",
     "text": [
      "Selected tuples saved to survey/selected_film_tuples.csv\n"
     ]
    }
   ],
   "source": [
    "# Load entity-to-text and relation-to-text mappings\n",
    "entity2text = pd.read_csv(\"data/FB15k237/entity2text.txt\", sep=\"\\t\", header=None, names=[\"entity\", \"text\"]).set_index(\"entity\")[\"text\"].to_dict()\n",
    "relation2text = pd.read_csv(\"data/FB15k237/relation2text.txt\", sep=\"\\t\", header=None, names=[\"relation\", \"text\"]).set_index(\"relation\")[\"text\"].to_dict()\n",
    "\n",
    "# Load the dataset into a DataFrame\n",
    "data = pd.read_csv(\"data/FB15k237/test.tsv\", sep=\"\\t\", header=None, names=[\"head\", \"relation\", \"tail\"])\n",
    "\n",
    "# Filter for relations containing the word \"film\" using the relation-to-text mapping\n",
    "data[\"relation_text\"] = data[\"relation\"].map(relation2text)\n",
    "film_data = data[data[\"relation_text\"].str.contains(\"film\", na=False)]\n",
    "\n",
    "# Randomly select tuples (up to a maximum of 76)\n",
    "selected_tuples = film_data.sample(n=min(76, len(film_data))).reset_index(drop=True)\n",
    "\n",
    "# Translate entities and relations to text and format the output\n",
    "selected_tuples[\"head_text\"] = selected_tuples[\"head\"].map(entity2text)\n",
    "selected_tuples[\"tail_text\"] = selected_tuples[\"tail\"].map(entity2text)\n",
    "\n",
    "# Keep only the necessary columns\n",
    "output_data = selected_tuples[[\"head_text\", \"relation_text\", \"tail_text\"]]\n",
    "output_data.columns = [\"Head (Text)\", \"Relation (Text)\", \"Tail (Text)\"]\n",
    "\n",
    "# Save to CSV or print the DataFrame\n",
    "output_path = \"survey/selected_film_tuples.csv\"\n",
    "output_data.to_csv(output_path, index=False)\n",
    "print(f\"Selected tuples saved to {output_path}\")\n"
   ]
  }
 ],
 "metadata": {
  "kernelspec": {
   "display_name": "thesis",
   "language": "python",
   "name": "python3"
  },
  "language_info": {
   "codemirror_mode": {
    "name": "ipython",
    "version": 3
   },
   "file_extension": ".py",
   "mimetype": "text/x-python",
   "name": "python",
   "nbconvert_exporter": "python",
   "pygments_lexer": "ipython3",
   "version": "3.9.19"
  }
 },
 "nbformat": 4,
 "nbformat_minor": 2
}
